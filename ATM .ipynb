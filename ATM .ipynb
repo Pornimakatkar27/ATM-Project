{
 "cells": [
  {
   "cell_type": "code",
   "execution_count": 2,
   "id": "bf88aee5-5128-44ae-bfad-01b661b2d4b6",
   "metadata": {},
   "outputs": [
    {
     "name": "stdout",
     "output_type": "stream",
     "text": [
      "Welcome to Python ATM!\n",
      "\n",
      "===== ATM MENU =====\n",
      "1. Check Balance\n",
      "2. Deposit Money\n",
      "3. Withdraw Money\n",
      "4. Reset PIN\n",
      "5. Exit\n"
     ]
    },
    {
     "name": "stdin",
     "output_type": "stream",
     "text": [
      "Enter your choice (1-5):  4\n",
      "Enter your PIN:  1234\n",
      "Enter your current PIN:  1234\n",
      "Enter new PIN:  2710\n",
      "Confirm new PIN:  2710\n"
     ]
    },
    {
     "name": "stdout",
     "output_type": "stream",
     "text": [
      "PIN reset successfully!\n",
      "\n",
      "===== ATM MENU =====\n",
      "1. Check Balance\n",
      "2. Deposit Money\n",
      "3. Withdraw Money\n",
      "4. Reset PIN\n",
      "5. Exit\n"
     ]
    },
    {
     "name": "stdin",
     "output_type": "stream",
     "text": [
      "Enter your choice (1-5):  4\n",
      "Enter your PIN:  1234\n"
     ]
    },
    {
     "name": "stdout",
     "output_type": "stream",
     "text": [
      "Wrong PIN!\n",
      "\n",
      "===== ATM MENU =====\n",
      "1. Check Balance\n",
      "2. Deposit Money\n",
      "3. Withdraw Money\n",
      "4. Reset PIN\n",
      "5. Exit\n"
     ]
    },
    {
     "name": "stdin",
     "output_type": "stream",
     "text": [
      "Enter your choice (1-5):  2710\n"
     ]
    },
    {
     "name": "stdout",
     "output_type": "stream",
     "text": [
      "Invalid choice! Please enter 1-5.\n",
      "\n",
      "===== ATM MENU =====\n",
      "1. Check Balance\n",
      "2. Deposit Money\n",
      "3. Withdraw Money\n",
      "4. Reset PIN\n",
      "5. Exit\n"
     ]
    },
    {
     "name": "stdin",
     "output_type": "stream",
     "text": [
      "Enter your choice (1-5):  3\n",
      "Enter your PIN:  1234\n"
     ]
    },
    {
     "name": "stdout",
     "output_type": "stream",
     "text": [
      "Wrong PIN!\n",
      "\n",
      "===== ATM MENU =====\n",
      "1. Check Balance\n",
      "2. Deposit Money\n",
      "3. Withdraw Money\n",
      "4. Reset PIN\n",
      "5. Exit\n"
     ]
    },
    {
     "name": "stdin",
     "output_type": "stream",
     "text": [
      "Enter your choice (1-5):  3\n",
      "Enter your PIN:  2710\n",
      "Enter amount to withdraw:  500\n"
     ]
    },
    {
     "name": "stdout",
     "output_type": "stream",
     "text": [
      "Withdraw successful! Remaining balance: 500.0\n",
      "\n",
      "===== ATM MENU =====\n",
      "1. Check Balance\n",
      "2. Deposit Money\n",
      "3. Withdraw Money\n",
      "4. Reset PIN\n",
      "5. Exit\n"
     ]
    },
    {
     "name": "stdin",
     "output_type": "stream",
     "text": [
      "Enter your choice (1-5):  5\n"
     ]
    },
    {
     "name": "stdout",
     "output_type": "stream",
     "text": [
      "Thank you for using Python ATM. Goodbye.\n"
     ]
    }
   ],
   "source": [
    "# User account details\n",
    "balance = 1000\n",
    "pin = \"1234\"\n",
    "\n",
    "# --- Functions ---\n",
    "def check_balance():\n",
    "    print(\"Your balance is:\", balance)\n",
    "\n",
    "def deposit(amount):\n",
    "    global balance\n",
    "    if amount > 0:\n",
    "        balance += amount\n",
    "        print(\"Deposited successfully! New balance:\", balance)\n",
    "    else:\n",
    "        print(\"Invalid deposit amount!\")\n",
    "\n",
    "def withdraw(amount):\n",
    "    global balance\n",
    "    if amount > balance:\n",
    "        print(\"Insufficient balance!\")\n",
    "    elif amount <= 0:\n",
    "        print(\"Invalid withdraw amount!\")\n",
    "    else:\n",
    "        balance -= amount\n",
    "        print(\"Withdraw successful! Remaining balance:\", balance)\n",
    "\n",
    "def reset_pin():\n",
    "    global pin\n",
    "    old_pin = input(\"Enter your current PIN: \")\n",
    "    if old_pin == pin:\n",
    "        new_pin = input(\"Enter new PIN: \")\n",
    "        confirm = input(\"Confirm new PIN: \")\n",
    "        if new_pin == confirm:\n",
    "            pin = new_pin\n",
    "            print(\"PIN reset successfully!\")\n",
    "        else:\n",
    "            print(\"PINs do not match!\")\n",
    "    else:\n",
    "        print(\"Incorrect current PIN!\")\n",
    "\n",
    "def atm_menu():\n",
    "    print(\"\\n===== ATM MENU =====\")\n",
    "    print(\"1. Check Balance\")\n",
    "    print(\"2. Deposit Money\")\n",
    "    print(\"3. Withdraw Money\")\n",
    "    print(\"4. Reset PIN\")\n",
    "    print(\"5. Exit\")\n",
    "\n",
    "def verify_pin():\n",
    "    user_pin = input(\"Enter your PIN: \")\n",
    "    return user_pin == pin\n",
    "\n",
    "print(\"Welcome to Python ATM!\")\n",
    "\n",
    "while True:\n",
    "    atm_menu()\n",
    "    choice = input(\"Enter your choice (1-5): \")\n",
    "\n",
    "    if choice == \"1\":\n",
    "        if verify_pin():\n",
    "            check_balance()\n",
    "        else:\n",
    "            print(\"Wrong PIN!\")\n",
    "\n",
    "    elif choice == \"2\":\n",
    "        if verify_pin():\n",
    "            amount = float(input(\"Enter amount to deposit: \"))\n",
    "            deposit(amount)\n",
    "        else:\n",
    "            print(\"Wrong PIN!\")\n",
    "\n",
    "    elif choice == \"3\":\n",
    "        if verify_pin():\n",
    "            amount = float(input(\"Enter amount to withdraw: \"))\n",
    "            withdraw(amount)\n",
    "        else:\n",
    "            print(\"Wrong PIN!\")\n",
    "\n",
    "    elif choice == \"4\":\n",
    "        if verify_pin():\n",
    "            reset_pin()\n",
    "        else:\n",
    "            print(\"Wrong PIN!\")\n",
    "\n",
    "    elif choice == \"5\":\n",
    "        print(\"Thank you for using Python ATM. Goodbye.\")\n",
    "        break\n",
    "\n",
    "    else:\n",
    "        print(\"Invalid choice! Please enter 1-5.\")\n"
   ]
  },
  {
   "cell_type": "code",
   "execution_count": null,
   "id": "7a1e9cae-aadb-48c1-94bf-7733e57438c3",
   "metadata": {},
   "outputs": [],
   "source": []
  }
 ],
 "metadata": {
  "kernelspec": {
   "display_name": "Python 3 (ipykernel)",
   "language": "python",
   "name": "python3"
  },
  "language_info": {
   "codemirror_mode": {
    "name": "ipython",
    "version": 3
   },
   "file_extension": ".py",
   "mimetype": "text/x-python",
   "name": "python",
   "nbconvert_exporter": "python",
   "pygments_lexer": "ipython3",
   "version": "3.13.6"
  }
 },
 "nbformat": 4,
 "nbformat_minor": 5
}
